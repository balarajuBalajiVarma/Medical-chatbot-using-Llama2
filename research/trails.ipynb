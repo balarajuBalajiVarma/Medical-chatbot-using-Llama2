{
 "cells": [
  {
   "cell_type": "code",
   "execution_count": 5,
   "metadata": {},
   "outputs": [],
   "source": [
    "### Import  librabies\n",
    "from langchain import PromptTemplate\n",
    "from langchain.chains import RetrievalQA\n",
    "from langchain.embeddings import HuggingFaceEmbeddings\n",
    "from langchain.vectorstores import Pinecone\n",
    "import pinecone\n",
    "from langchain.document_loaders import DirectoryLoader,PyMuPDFLoader,PyPDFLoader\n",
    "from langchain.text_splitter import RecursiveCharacterTextSplitter\n",
    "from langchain.llms import CTransformers\n",
    "import pypdf\n",
    "from pinecone import Pinecone\n",
    "from langchain_pinecone import PineconeVectorStore  \n",
    "\n"
   ]
  },
  {
   "cell_type": "code",
   "execution_count": 6,
   "metadata": {},
   "outputs": [],
   "source": [
    "Pine_cone_api_keys=\"582f464e-7c64-472e-bd99-580598a8ee13\"\n",
    "Pine_cone_api_env=\"gcp-starter\""
   ]
  },
  {
   "cell_type": "code",
   "execution_count": 7,
   "metadata": {},
   "outputs": [],
   "source": [
    "# Extract data from pdf\n",
    "def load_pdf(data):\n",
    "    loader=DirectoryLoader(data,glob=\"*.pdf\",loader_cls=PyPDFLoader)\n",
    "\n",
    "    documents=loader.load()\n",
    "\n",
    "    return documents\n",
    "\n",
    "\n",
    "extracted_data=load_pdf('data/')"
   ]
  },
  {
   "cell_type": "code",
   "execution_count": 8,
   "metadata": {},
   "outputs": [
    {
     "name": "stdout",
     "output_type": "stream",
     "text": [
      "Length of my chunks: 7020\n"
     ]
    }
   ],
   "source": [
    "#create text chucks \n",
    "\n",
    "def text_split(extracted_data):\n",
    "\n",
    "    text_splitter= RecursiveCharacterTextSplitter(chunk_size=500, chunk_overlap=20)\n",
    "    text_chunks= text_splitter.split_documents(extracted_data)\n",
    "\n",
    "    return text_chunks\n",
    "\n",
    "text_chunks=text_split(extracted_data)\n",
    "print(\"Length of my chunks:\",len(text_chunks))"
   ]
  },
  {
   "cell_type": "code",
   "execution_count": 9,
   "metadata": {},
   "outputs": [],
   "source": [
    "# Download embedding model\n",
    "\n",
    "def downloading_embeddingmodel():\n",
    "    embeddings=HuggingFaceEmbeddings(model_name=\"sentence-transformers/all-MiniLM-L6-v2\")\n",
    "    return embeddings\n",
    "\n",
    "embeddings=downloading_embeddingmodel()"
   ]
  },
  {
   "cell_type": "code",
   "execution_count": 10,
   "metadata": {},
   "outputs": [
    {
     "data": {
      "text/plain": [
       "HuggingFaceEmbeddings(client=SentenceTransformer(\n",
       "  (0): Transformer({'max_seq_length': 256, 'do_lower_case': False}) with Transformer model: BertModel \n",
       "  (1): Pooling({'word_embedding_dimension': 384, 'pooling_mode_cls_token': False, 'pooling_mode_mean_tokens': True, 'pooling_mode_max_tokens': False, 'pooling_mode_mean_sqrt_len_tokens': False})\n",
       "  (2): Normalize()\n",
       "), model_name='sentence-transformers/all-MiniLM-L6-v2', cache_folder=None, model_kwargs={}, encode_kwargs={})"
      ]
     },
     "execution_count": 10,
     "metadata": {},
     "output_type": "execute_result"
    }
   ],
   "source": [
    "embeddings"
   ]
  },
  {
   "cell_type": "code",
   "execution_count": 34,
   "metadata": {},
   "outputs": [
    {
     "name": "stdout",
     "output_type": "stream",
     "text": [
      "Embedding vector: [-0.12299400568008423, 0.02277771383523941, -0.03922954574227333, 0.07726240903139114, 0.006203377619385719, 0.028091086074709892, 0.10457874834537506, 0.06359616667032242, -0.04367317259311676, 0.013952089473605156, 0.04262267425656319, -0.025100111961364746, 0.038625605404376984, -0.029103247448801994, -0.02588428184390068, 0.03549799695611, -0.057027384638786316, -0.011699439957737923, 0.0066604395397007465, -0.07993222773075104, -0.06958498805761337, 0.027941683307290077, -0.06689076870679855, -0.13075681030750275, 0.028244733810424805, -0.07138904929161072, 0.021761558949947357, -0.07683862745761871, -0.04244202747941017, -0.006180329713970423, -0.00292257615365088, 0.00979266595095396, -0.05714109539985657, 0.0409608855843544, -0.034957583993673325, 0.002110950415953994, -0.0013601570390164852, -0.0036554757971316576, 0.057528093457221985, 0.0076390416361391544, -0.06129685044288635, 0.011027505621314049, -0.03335292264819145, 0.0036880583502352238, 0.10168639570474625, -0.012790670618414879, -0.03385249152779579, 0.020221706479787827, 0.024968355894088745, -0.008432881906628609, 0.05714164674282074, -0.03866657242178917, 0.014218426309525967, 0.02246471494436264, -0.04444544017314911, -0.03326713666319847, -0.02854040078818798, -0.06910264492034912, -0.08402740210294724, 0.014363543130457401, 0.048819683492183685, -0.15410850942134857, 0.021384313702583313, 0.004693187773227692, -0.029323015362024307, -0.020601361989974976, 0.0006913684192113578, 0.0014135062228888273, -0.013396162539720535, 0.03045499697327614, -0.02173549309372902, -0.01330653391778469, 0.009499737992882729, 0.01736931875348091, 0.11308799684047699, -0.044686898589134216, -0.08978013694286346, -0.06348457932472229, -0.0019018999300897121, 0.04504191502928734, 0.06378678232431412, 0.06991890072822571, 0.029464062303304672, -0.005829429253935814, 0.07978782057762146, -0.08389802277088165, 0.0357217937707901, -0.0603586845099926, -0.08457441627979279, 0.06682292371988297, -0.09345587342977524, 0.07823559641838074, -0.06978313624858856, 0.002588546136394143, 0.012050497345626354, -0.018804913386702538, 0.018738877028226852, -0.017055297270417213, -0.07235044240951538, 0.05266061797738075, -0.08164150267839432, 0.017023926600813866, -0.00934624020010233, 0.019717568531632423, -0.011124541983008385, -0.02583617903292179, -0.012990112416446209, 0.009117244742810726, 0.05948098003864288, -0.009404792450368404, -0.008011695928871632, -0.05640972778201103, -0.07899489998817444, -0.06460633128881454, 0.04704703390598297, 0.02339879609644413, -0.017892062664031982, -0.013588881120085716, 0.07856735587120056, -0.026743527501821518, -0.021099066361784935, 0.009951033629477024, -0.11656171828508377, 0.019148433580994606, 0.0409255176782608, -0.07352188229560852, -0.014404083602130413, -5.633447943088362e-33, -0.07033544033765793, 0.09728433936834335, -0.04237605631351471, 0.04180023819208145, 0.03947730362415314, 0.03977137431502342, -0.021730346605181694, 0.016673434525728226, 0.009922460652887821, -0.032470326870679855, -0.04816541448235512, -0.0014488408342003822, -0.06110420450568199, 0.06706137955188751, 0.046319957822561264, 0.034540291875600815, -0.04128619283437729, 0.02118430845439434, 0.030031057074666023, -0.042252615094184875, -0.01903451420366764, -0.0027464351151138544, 0.01809960976243019, 0.03284773230552673, -0.046041302382946014, 0.012107349000871181, 0.012503217905759811, 0.009621545672416687, -0.01758844405412674, -0.02927917242050171, -0.013603261671960354, 0.07649225741624832, 0.053260013461112976, 0.016740255057811737, 0.03700439631938934, 0.022870365530252457, 0.00384106975980103, 0.0034551266580820084, -0.01672809012234211, 0.02540808916091919, 0.016900047659873962, 0.017829712480306625, -0.018344826996326447, -0.041966088116168976, -0.020624244585633278, 0.03596697375178337, -0.13439884781837463, -0.001877726404927671, -0.057333871722221375, 0.014470245689153671, 0.009136899374425411, 0.05029517784714699, -0.029831772670149803, 0.05333227664232254, -0.06808467954397202, -0.008750740438699722, -0.1546393781900406, -0.025540202856063843, -0.033706698566675186, 0.00817155186086893, 0.10424702614545822, 0.03891947492957115, -0.031180039048194885, 0.0026528481394052505, -0.11691867560148239, 0.030308030545711517, -0.06077807769179344, 0.053727708756923676, -0.01443975418806076, 0.035657238215208054, 0.034884173423051834, 0.05034537985920906, 0.058891672641038895, -0.028526518493890762, 0.05957856401801109, 0.07822558283805847, 0.022403903305530548, 0.06280887126922607, -0.03750345855951309, -0.011129227466881275, -0.021024856716394424, -0.030780626460909843, 0.03519393876194954, -0.08141424506902695, -0.06305119395256042, 0.00925331562757492, -0.001483212923631072, 0.08587769418954849, 0.12256448715925217, -0.058620039373636246, 0.03791533410549164, 0.05637594684958458, 0.02803962491452694, 0.033764056861400604, -0.0767216756939888, 1.5160548088871782e-33, 0.012992355972528458, -0.09276801347732544, -0.0015159614849835634, -0.03774423524737358, 0.025517849251627922, 0.05194039270281792, 0.018404250964522362, 0.08486694097518921, 0.02642998658120632, 0.04672618582844734, 0.06272567808628082, 0.023046670481562614, 0.0671287402510643, -0.06234118342399597, 0.059857022017240524, -0.013762247748672962, -0.014008182100951672, -0.03528763726353645, 0.027128297835588455, 0.06265576183795929, -0.04258337616920471, 0.02798287384212017, 0.013633950613439083, -0.011134341359138489, -0.04290607199072838, 0.048788875341415405, -0.05077745392918587, -0.05854759365320206, 0.020241158083081245, 0.06050673872232437, 0.03790541738271713, 0.002944756066426635, 0.037569500505924225, 0.01704777032136917, 0.017947053536772728, 0.03602905198931694, 0.022954901680350304, -0.007293200585991144, -0.09347028285264969, 0.05020998790860176, 0.060142312198877335, -0.09475172311067581, -0.04778248071670532, 0.04323236644268036, 0.08801694959402084, 0.06089496612548828, 0.00923247542232275, -0.030239468440413475, -0.08892824500799179, -0.09516739100217819, 0.07408297806978226, 0.020410945639014244, 0.04088285192847252, -0.0716792643070221, -0.011406166478991508, 0.08496637642383575, -0.07716044038534164, 0.0013028940884396434, 0.03435453400015831, 0.046708621084690094, 0.04620341956615448, -0.015653586015105247, -0.0022665318101644516, 0.011330525390803814, -0.0035012499429285526, -0.05551604554057121, 0.015148304402828217, -0.005202357657253742, 0.01525815948843956, 0.05262651666998863, 0.05033174902200699, 0.1173134371638298, -0.10219314694404602, -0.020738890394568443, -0.03547605499625206, -0.0856107771396637, 0.0075849490240216255, -0.04291023313999176, -0.1235545426607132, 0.024421826004981995, -0.13619689643383026, -0.05082201585173607, 0.00819109845906496, 0.050660666078329086, -0.0432266965508461, 0.012390018440783024, -0.06591469794511795, -0.022488821297883987, -0.019300438463687897, -0.003820940153673291, -0.03575911372900009, 0.07364296168088913, -0.06962143629789352, 0.02317212149500847, -0.05744842812418938, -1.6372753819382524e-08, 0.019591985270380974, -0.02354302816092968, 0.009499962441623211, -0.03321993350982666, -0.00010798336006700993, -0.022008847445249557, 0.026882782578468323, 0.061766669154167175, 0.05170527473092079, -0.08396611362695694, -0.08318313956260681, 0.063669852912426, 0.043631069362163544, -0.021991753950715065, -0.09007538110017776, -0.00802972074598074, 0.0015628397231921554, 0.046836353838443756, 0.07528574019670486, -0.014866133220493793, -0.05985102429986, 0.015743745490908623, -0.05030632019042969, -0.003545640269294381, -0.014039470814168453, 0.006178006529808044, 0.0398542545735836, 0.06804297119379044, -0.07285261154174805, -0.01345809455960989, 0.008628575131297112, 0.022822005674242973, 0.051113709807395935, -0.0037845002952963114, 0.013732993975281715, -0.03669268265366554, 0.16047979891300201, -0.0540812611579895, -0.023111173883080482, -0.06370630115270615, 0.013508660718798637, 0.10138626396656036, 0.0232279933989048, 0.051306698471307755, -0.012810845859348774, -0.02528904564678669, 0.11821891367435455, -0.10863200575113297, 0.02432556264102459, 0.006107289344072342, 0.027214152738451958, 0.04286561533808708, -0.030684178695082664, 0.05698145180940628, -0.027442853897809982, -0.034886762499809265, -0.04048886150121689, -0.01586088538169861, -0.013678112998604774, -0.017355697229504585, -0.02569674886763096, 0.004855460952967405, 0.08844475448131561, 0.07409802079200745]\n",
      "Length of the dimensions 384\n"
     ]
    }
   ],
   "source": [
    "print(\"Embedding vector:\",embeddings.embed_query(\"what is acne\"))\n",
    "\n",
    "print(\"Length of the dimensions\",len(embeddings.embed_query(\"what is acne\")))"
   ]
  },
  {
   "cell_type": "code",
   "execution_count": 12,
   "metadata": {},
   "outputs": [],
   "source": [
    "# #Initializing the pinecore\n",
    "\n",
    "# pc = Pinecone(api_key=Pine_cone_api_keys)\n",
    "# Indexname=\"medicalchatbot\"\n",
    "\n",
    "# # pinecore converts the text embeddings to vectors and it store it\n",
    "# docsearch=pc.from_texts([t.page_content for t in text_chunks],embeddings,index_name=Indexname)"
   ]
  },
  {
   "cell_type": "markdown",
   "metadata": {},
   "source": [
    "Initialize the pinecone database using api keys. and call existing pineconeindex"
   ]
  },
  {
   "cell_type": "code",
   "execution_count": 37,
   "metadata": {},
   "outputs": [],
   "source": [
    "pc=Pinecone(api_key=Pine_cone_api_keys)\n",
    "Indexname=\"medicalchatbot\"\n",
    "index=pc.Index(Indexname)\n",
    "index.describe_index_stats()"
   ]
  },
  {
   "cell_type": "markdown",
   "metadata": {},
   "source": [
    "Store the embeddings to pinecone database"
   ]
  },
  {
   "cell_type": "code",
   "execution_count": 17,
   "metadata": {},
   "outputs": [],
   "source": [
    "# index_name=Indexname\n",
    "# index = pc.Index(index_name)  \n",
    "# for i, t in zip(range(len(text_chunks)), text_chunks):\n",
    "#    query_result = embeddings.embed_query(t.page_content)\n",
    "#    index.upsert(\n",
    "#    vectors=[\n",
    "#         {\n",
    "#             \"id\": str(i),  # Convert i to a string\n",
    "#             \"values\": query_result, \n",
    "#             \"metadata\": {\"text\":str(text_chunks[i].page_content)} # meta data as dic\n",
    "#         }\n",
    "#     ],\n",
    "#     namespace=\"real\" \n",
    "# )\n",
    "# index.describe_index_stats() "
   ]
  },
  {
   "cell_type": "code",
   "execution_count": 18,
   "metadata": {},
   "outputs": [],
   "source": [
    "# Prompt Template\n",
    "promptTemplate='''\n",
    "\n",
    "Use the following context  of information to answer the user's question.\n",
    "if you don't know the answer, just say that you don't know, dont try to make up an answer.\n",
    "\n",
    "Context: {context}\n",
    "Question: {question}\n",
    "\n",
    "Only provide helpful answer below and nothing else.\n",
    "Helpful answer:\n",
    "'''"
   ]
  },
  {
   "cell_type": "code",
   "execution_count": 47,
   "metadata": {},
   "outputs": [],
   "source": [
    "llm=CTransformers(model=\"Model/llama-2-7b-chat.ggmlv3.q4_0.bin\",\n",
    "              model_type=\"llama\",\n",
    "              config={'max_new_tokens':512,\n",
    "                      'temperature':0.1})\n"
   ]
  },
  {
   "cell_type": "code",
   "execution_count": 1,
   "metadata": {},
   "outputs": [],
   "source": [
    "\n",
    "text_field = \"text\"  \n",
    "vectorstore = PineconeVectorStore(  \n",
    "    index, embeddings  \n",
    ")  \n"
   ]
  },
  {
   "cell_type": "code",
   "execution_count": 52,
   "metadata": {},
   "outputs": [
    {
     "data": {
      "text/plain": [
       "[]"
      ]
     },
     "execution_count": 52,
     "metadata": {},
     "output_type": "execute_result"
    }
   ],
   "source": [
    "query = \"Abdominal wall defects are effectively treated with surgical repair\"  \n",
    "vectorstore.similarity_search(  \n",
    "    query,  # our search query  \n",
    "    k=3  # return 3 most relevant docs  \n",
    ")  \n"
   ]
  },
  {
   "cell_type": "code",
   "execution_count": 51,
   "metadata": {},
   "outputs": [
    {
     "ename": "ValidationError",
     "evalue": "1 validation error for RetrievalQA\nretriever\n  Can't instantiate abstract class BaseRetriever with abstract methods _aget_relevant_documents, _get_relevant_documents (type=type_error)",
     "output_type": "error",
     "traceback": [
      "\u001b[1;31m---------------------------------------------------------------------------\u001b[0m",
      "\u001b[1;31mValidationError\u001b[0m                           Traceback (most recent call last)",
      "Cell \u001b[1;32mIn[51], line 1\u001b[0m\n\u001b[1;32m----> 1\u001b[0m qa \u001b[38;5;241m=\u001b[39m \u001b[43mRetrievalQA\u001b[49m\u001b[38;5;241;43m.\u001b[39;49m\u001b[43mfrom_chain_type\u001b[49m\u001b[43m(\u001b[49m\u001b[43m  \u001b[49m\n\u001b[0;32m      2\u001b[0m \u001b[43m    \u001b[49m\u001b[43mllm\u001b[49m\u001b[38;5;241;43m=\u001b[39;49m\u001b[43mllm\u001b[49m\u001b[43m,\u001b[49m\u001b[43m  \u001b[49m\n\u001b[0;32m      3\u001b[0m \u001b[43m    \u001b[49m\u001b[43mchain_type\u001b[49m\u001b[38;5;241;43m=\u001b[39;49m\u001b[38;5;124;43m\"\u001b[39;49m\u001b[38;5;124;43mstuff\u001b[39;49m\u001b[38;5;124;43m\"\u001b[39;49m\u001b[43m,\u001b[49m\u001b[43m  \u001b[49m\n\u001b[0;32m      4\u001b[0m \u001b[43m    \u001b[49m\u001b[43mretriever\u001b[49m\u001b[38;5;241;43m=\u001b[39;49m\u001b[43mvectorstore\u001b[49m\u001b[38;5;241;43m.\u001b[39;49m\u001b[43mas_retriever\u001b[49m\u001b[43m(\u001b[49m\u001b[43m)\u001b[49m\u001b[43m  \u001b[49m\n\u001b[0;32m      5\u001b[0m \u001b[43m)\u001b[49m  \n\u001b[0;32m      6\u001b[0m \u001b[38;5;66;03m# qa.run(query) \u001b[39;00m\n",
      "File \u001b[1;32mc:\\Users\\Welcome\\anaconda3\\envs\\mchatbot\\lib\\site-packages\\langchain\\chains\\retrieval_qa\\base.py:95\u001b[0m, in \u001b[0;36mBaseRetrievalQA.from_chain_type\u001b[1;34m(cls, llm, chain_type, chain_type_kwargs, **kwargs)\u001b[0m\n\u001b[0;32m     91\u001b[0m _chain_type_kwargs \u001b[38;5;241m=\u001b[39m chain_type_kwargs \u001b[38;5;129;01mor\u001b[39;00m {}\n\u001b[0;32m     92\u001b[0m combine_documents_chain \u001b[38;5;241m=\u001b[39m load_qa_chain(\n\u001b[0;32m     93\u001b[0m     llm, chain_type\u001b[38;5;241m=\u001b[39mchain_type, \u001b[38;5;241m*\u001b[39m\u001b[38;5;241m*\u001b[39m_chain_type_kwargs\n\u001b[0;32m     94\u001b[0m )\n\u001b[1;32m---> 95\u001b[0m \u001b[38;5;28;01mreturn\u001b[39;00m \u001b[38;5;28;43mcls\u001b[39;49m\u001b[43m(\u001b[49m\u001b[43mcombine_documents_chain\u001b[49m\u001b[38;5;241;43m=\u001b[39;49m\u001b[43mcombine_documents_chain\u001b[49m\u001b[43m,\u001b[49m\u001b[43m \u001b[49m\u001b[38;5;241;43m*\u001b[39;49m\u001b[38;5;241;43m*\u001b[39;49m\u001b[43mkwargs\u001b[49m\u001b[43m)\u001b[49m\n",
      "File \u001b[1;32mc:\\Users\\Welcome\\anaconda3\\envs\\mchatbot\\lib\\site-packages\\langchain\\load\\serializable.py:74\u001b[0m, in \u001b[0;36mSerializable.__init__\u001b[1;34m(self, **kwargs)\u001b[0m\n\u001b[0;32m     73\u001b[0m \u001b[38;5;28;01mdef\u001b[39;00m \u001b[38;5;21m__init__\u001b[39m(\u001b[38;5;28mself\u001b[39m, \u001b[38;5;241m*\u001b[39m\u001b[38;5;241m*\u001b[39mkwargs: Any) \u001b[38;5;241m-\u001b[39m\u001b[38;5;241m>\u001b[39m \u001b[38;5;28;01mNone\u001b[39;00m:\n\u001b[1;32m---> 74\u001b[0m     \u001b[38;5;28;43msuper\u001b[39;49m\u001b[43m(\u001b[49m\u001b[43m)\u001b[49m\u001b[38;5;241;43m.\u001b[39;49m\u001b[38;5;21;43m__init__\u001b[39;49m\u001b[43m(\u001b[49m\u001b[38;5;241;43m*\u001b[39;49m\u001b[38;5;241;43m*\u001b[39;49m\u001b[43mkwargs\u001b[49m\u001b[43m)\u001b[49m\n\u001b[0;32m     75\u001b[0m     \u001b[38;5;28mself\u001b[39m\u001b[38;5;241m.\u001b[39m_lc_kwargs \u001b[38;5;241m=\u001b[39m kwargs\n",
      "File \u001b[1;32mc:\\Users\\Welcome\\anaconda3\\envs\\mchatbot\\lib\\site-packages\\pydantic\\main.py:341\u001b[0m, in \u001b[0;36mpydantic.main.BaseModel.__init__\u001b[1;34m()\u001b[0m\n",
      "\u001b[1;31mValidationError\u001b[0m: 1 validation error for RetrievalQA\nretriever\n  Can't instantiate abstract class BaseRetriever with abstract methods _aget_relevant_documents, _get_relevant_documents (type=type_error)"
     ]
    }
   ],
   "source": [
    "qa = RetrievalQA.from_chain_type(  \n",
    "    llm=llm,  \n",
    "    chain_type=\"stuff\",  \n",
    "    retriever=vectorstore.as_retriever()  \n",
    ")  \n",
    "# qa.run(query) "
   ]
  },
  {
   "cell_type": "code",
   "execution_count": 50,
   "metadata": {},
   "outputs": [],
   "source": [
    "from langchain_pinecone import PineconeVectorStore  \n",
    "text_field = \"text\"  \n",
    "vectorstore = PineconeVectorStore(  \n",
    "    index, embeddings, text_field  \n",
    ")  \n"
   ]
  },
  {
   "cell_type": "code",
   "execution_count": null,
   "metadata": {},
   "outputs": [],
   "source": []
  }
 ],
 "metadata": {
  "kernelspec": {
   "display_name": "Python 3",
   "language": "python",
   "name": "python3"
  },
  "language_info": {
   "codemirror_mode": {
    "name": "ipython",
    "version": 3
   },
   "file_extension": ".py",
   "mimetype": "text/x-python",
   "name": "python",
   "nbconvert_exporter": "python",
   "pygments_lexer": "ipython3",
   "version": "3.8.19"
  }
 },
 "nbformat": 4,
 "nbformat_minor": 2
}
